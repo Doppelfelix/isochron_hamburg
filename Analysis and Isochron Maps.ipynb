{
 "cells": [
  {
   "cell_type": "markdown",
   "id": "56ffbf7e-3bf0-4f49-a446-2d0de7096519",
   "metadata": {
    "tags": []
   },
   "source": [
    "# Imports"
   ]
  },
  {
   "cell_type": "code",
   "execution_count": null,
   "id": "71bde592",
   "metadata": {},
   "outputs": [],
   "source": [
    "import folium\n",
    "import geopandas as gpd\n",
    "import pandas as pd\n",
    "import numpy as np\n",
    "from tqdm import tqdm\n",
    "import itertools\n",
    "import matplotlib.pyplot as plt\n",
    "import seaborn as sns\n",
    "import branca.colormap as cm\n",
    "import shapely\n",
    "from shapely.geometry import Point, LineString, Polygon\n",
    "import networkx as nx\n",
    "import folium\n",
    "import osmnx as ox\n",
    "import matplotlib.pyplot as plt\n",
    "from descartes import PolygonPatch\n",
    "from IPython.display import IFrame\n",
    "import json"
   ]
  },
  {
   "cell_type": "code",
   "execution_count": null,
   "id": "f6ad21aa",
   "metadata": {},
   "outputs": [],
   "source": [
    "station_df = pd.read_csv('streamlit/input_data/all_stations_by_hour_weekday.csv')"
   ]
  },
  {
   "cell_type": "code",
   "execution_count": null,
   "id": "265293b9",
   "metadata": {},
   "outputs": [],
   "source": [
    "station_df = gpd.GeoDataFrame(\n",
    "    station_df, geometry=gpd.points_from_xy(station_df.coordinatesX, station_df.coordinatesY))\n",
    "station_df[\"copy_geometry\"] = station_df.geometry\n"
   ]
  },
  {
   "cell_type": "code",
   "execution_count": null,
   "id": "0f2045e3-d452-4f1e-85dc-8e072de5f485",
   "metadata": {},
   "outputs": [],
   "source": [
    "check_df = station_df.groupby('thingID').agg({\"geometry\":\"first\", \n",
    "                                   \"average_res\": \"std\"}).sort_values('average_res', ascending=False)\n"
   ]
  },
  {
   "cell_type": "code",
   "execution_count": null,
   "id": "9ce5d434-1739-41d8-8b1d-2958d4ebb36a",
   "metadata": {},
   "outputs": [],
   "source": [
    "check_df"
   ]
  },
  {
   "cell_type": "code",
   "execution_count": null,
   "id": "fa302eea-6c68-4e73-a8b8-15e8df26eec0",
   "metadata": {},
   "outputs": [],
   "source": [
    "gpd.GeoDataFrame(\n",
    "    check_df, geometry=check_df.geometry).explore()"
   ]
  },
  {
   "cell_type": "code",
   "execution_count": null,
   "id": "b4b7d2c6-8293-4454-b548-ed3ef51b3862",
   "metadata": {},
   "outputs": [],
   "source": [
    "import plotly.express as px\n",
    "\n",
    "day_dict = {}\n",
    "for i in range(7):\n",
    "    day_dict[i+1] = calendar.day_name[i]\n",
    "    \n",
    "station_df[\"weekday_name\"] = station_df[\"resultWeekday\"].map(day_dict)\n",
    "\n",
    "    \n",
    "#64\n",
    "data = station_df.query('thingID == 38').sort_values(['resultWeekday','resultHour'])[[\"average_res\",\n",
    "                                                                            \"weekday_name\", \"resultHour\"]]\n",
    "data[\"resultHour\"] = data[\"resultHour\"].astype(str)\n",
    "\n",
    "categories = list(range(23))\n",
    "\n",
    "\n",
    "fig = px.line_polar(data, r='average_res', theta='resultHour', color='weekday_name', line_close=True, \n",
    "                    title=\"Bikes at a station in Hamburg outskirts by day and hour\", height=680,\n",
    "                   labels={\"weekday_name\": \"Weekday\"})\n",
    "#fig.update_traces(fill='toself')\n",
    "fig.show()"
   ]
  },
  {
   "cell_type": "code",
   "execution_count": null,
   "id": "ecfeb57f",
   "metadata": {},
   "outputs": [],
   "source": [
    "station_df = station_df.set_crs('epsg:4236')"
   ]
  },
  {
   "cell_type": "code",
   "execution_count": null,
   "id": "b13d7086-7f58-4e2e-96b5-e81e5726ac6f",
   "metadata": {},
   "outputs": [],
   "source": [
    "hamburg_df = gpd.read_file('streamlit/input_data/Stadtteile-Hamburg.geojson')\n",
    "hamburg_df = hamburg_df[[\"bezirk_name\", \"stadtteil_name\",\"SHAPE_Area\", \"geometry\"]]\n",
    "hamburg_districts = pd.read_csv('streamlit/input_data/Stadtteilprofile2021.csv', sep=\";\")\n",
    "\n",
    "combine_dict = {\n",
    " \"Kleiner Grasbrook und Steinwerder\": [\"Kleiner Grasbrook\", \"Steinwerder\"],\n",
    " \"Waltershof und Finkenwerder\": [\"Waltershof\", \"Finkenwerder\"],\n",
    " \"Neuland und Gut Moor\": [\"Neuland\", \"Gut Moor\"],\n",
    " \"Moorburg und Altenwerder\": [\"Moorburg\", \"Altenwerder\"]\n",
    "}\n",
    "\n",
    "for new_val, old_cols in combine_dict.items():\n",
    "    row_1 = hamburg_df.loc[hamburg_df[\"stadtteil_name\"] == old_cols[0]]\n",
    "    row_2 = hamburg_df[hamburg_df[\"stadtteil_name\"] == old_cols[1]]\n",
    "\n",
    "    bezirk = row_1[\"bezirk_name\"]    \n",
    "    new_geo = pd.concat([row_1, row_2])[\"geometry\"].unary_union\n",
    "    new_area = float(row_1[\"SHAPE_Area\"]) + float(row_2[\"SHAPE_Area\"])\n",
    "    \n",
    "    hamburg_df.loc[len(hamburg_df.index)] = [bezirk, new_val, new_area, new_geo]\n",
    "\n",
    "\n",
    "hamburg_with_data = pd.merge(left=hamburg_df, right=hamburg_districts, left_on=\"stadtteil_name\", right_on=\"Stadtgebiet\", how=\"left\")"
   ]
  },
  {
   "cell_type": "code",
   "execution_count": null,
   "id": "5c843c4b-0e18-4949-a918-6a57812d3703",
   "metadata": {},
   "outputs": [],
   "source": [
    "drop_list = [y for x  in combine_dict.values() for y in  x] + [\"Neuwerk\"]"
   ]
  },
  {
   "cell_type": "code",
   "execution_count": null,
   "id": "64d65331-87dc-43ad-bf0c-809efdab9d83",
   "metadata": {},
   "outputs": [],
   "source": [
    "hamburg_with_data = hamburg_with_data.loc[~hamburg_with_data[\"stadtteil_name\"].isin(drop_list )]\n",
    "hamburg_with_data[\"Bevölkerung\"] = pd.to_numeric(hamburg_with_data[\"Bevölkerung\"].str.replace(\" \", \"\"))"
   ]
  },
  {
   "cell_type": "code",
   "execution_count": null,
   "id": "d9022a1b-2696-4206-b8a2-8b16cfe8af75",
   "metadata": {},
   "outputs": [],
   "source": [
    "joined_df = hamburg_with_data.sjoin(station_df, how=\"left\")\n",
    "agg_df = joined_df.groupby(['stadtteil_name', 'resultHour', 'resultWeekday']).agg({\"average_res\": sum, \"thingID\": \"nunique\", \"Bevölkerung\": \"max\"}).reset_index()\n",
    "agg_df[\"average_res_pop\"] = agg_df[\"average_res\"]/ agg_df[\"Bevölkerung\"]\n",
    "combined_df = hamburg_with_data.merge(agg_df, how='left', on=\"stadtteil_name\")"
   ]
  },
  {
   "cell_type": "markdown",
   "id": "f32ee0e1-06e2-402e-8152-966b12726347",
   "metadata": {
    "tags": []
   },
   "source": [
    "# Creating Station Hour Plots"
   ]
  },
  {
   "cell_type": "code",
   "execution_count": null,
   "id": "8f5d377d-61e8-49c8-b2f8-ec75869a27c3",
   "metadata": {},
   "outputs": [],
   "source": [
    "import osmnx as ox\n",
    "station_df[\"fake_date\"] = \"1980-01-0\" + station_df[\"resultWeekday\"].astype(str) +\\\n",
    "        \" \" + station_df[\"resultHour\"].astype(str) + \":00:00\"\n",
    "\n",
    "\n",
    "trip_times = range(1, 18, 1)\n",
    "iso_colors = ox.plot.get_colors(n=len(trip_times), cmap='plasma_r', start=0.3, return_hex=True)\n",
    "\n",
    "def color_mapping_function(val, iso_colors):\n",
    "\n",
    "    for time, color in zip(trip_times, iso_colors):\n",
    "        if val < time :\n",
    "            return color\n",
    "\n",
    "    return iso_colors[-1]\n",
    "\n",
    "station_df[\"color\"] = station_df[\"average_res\"].apply(color_mapping_function, iso_colors=iso_colors)\n",
    "\n",
    "def create_geojson_features(df):\n",
    "    features = []\n",
    "    \n",
    "    for _, row in df.iterrows():\n",
    "        feature = {\n",
    "            'type': 'Feature',\n",
    "            'geometry': {\n",
    "                'type':'Point', \n",
    "                'coordinates':[row['coordinatesX'],row['coordinatesY']]\n",
    "            },\n",
    "            'properties': {\n",
    "                'time': str(pd.to_datetime(row['fake_date'])),\n",
    "                'style': {'color' : ''},\n",
    "                'icon': 'circle',\n",
    "                'iconstyle':{\n",
    "                    'fillColor': row[\"color\"],\n",
    "                    \"weight\" :0 ,\n",
    "                    'fillOpacity': 0.7,\n",
    "                    #'stroke': 'true',\n",
    "                    'radius': row['average_res'] -5\n",
    "                }\n",
    "            }\n",
    "        }\n",
    "        features.append(feature)\n",
    "    return features\n",
    "features = create_geojson_features(station_df)\n"
   ]
  },
  {
   "cell_type": "code",
   "execution_count": null,
   "id": "ce78d442-0725-4440-a6fc-3b1c800838be",
   "metadata": {},
   "outputs": [],
   "source": [
    "from folium.plugins import TimestampedGeoJson\n",
    "\n",
    "m = folium.Map(location=[53.555, 9.9914], zoom_start=11,prefer_canvas=True)\n",
    "TimestampedGeoJson(features,\n",
    "                  period = 'PT1H',\n",
    "                  duration = 'PT1H',\n",
    "                  transition_time = 100,\n",
    "                   loop=True,\n",
    "                  auto_play = True,\n",
    "                  date_options=f\"D -- HH:MM\",\n",
    "                  ).add_to(m)\n",
    "\n",
    "m"
   ]
  },
  {
   "cell_type": "markdown",
   "id": "7e74ed83-fc52-482e-a3be-d36ca05e73d2",
   "metadata": {},
   "source": [
    "# Graph Calculation"
   ]
  },
  {
   "cell_type": "code",
   "execution_count": null,
   "id": "5ed7bd16",
   "metadata": {},
   "outputs": [],
   "source": [
    "class DictSmallest(dict):\n",
    "    def __setitem__(self, key, value):\n",
    "        if (key not in self) or (key in self and self[key] > value):\n",
    "            dict.__setitem__(self, key, value)\n",
    "    def update(self, dict):\n",
    "        for key, value in dict.items():\n",
    "            if (key not in self) or (key in self and self[key] > value):\n",
    "                self[key] =  value\n",
    "        "
   ]
  },
  {
   "cell_type": "code",
   "execution_count": null,
   "id": "0fbc0c8a",
   "metadata": {},
   "outputs": [],
   "source": [
    "unique_station = station_df.groupby('thingID')[[\"coordinatesY\", \"coordinatesX\"]].min()\n",
    "unique_station = unique_station.reset_index(drop=True)\n",
    "\n",
    "all_sub_station = pd.read_csv('streamlit/input_data/cleaned_stations.csv')"
   ]
  },
  {
   "cell_type": "code",
   "execution_count": null,
   "id": "fdf18fa6-c091-42d0-b126-68f0fff955cf",
   "metadata": {},
   "outputs": [],
   "source": [
    "all_sub_station = all_sub_station.rename({\"lat\": \"coordinatesY\", \"lon\": \"coordinatesX\"}, axis=1)\n"
   ]
  },
  {
   "cell_type": "raw",
   "id": "aba0f23b-0c24-4f43-a098-f160e135e6c2",
   "metadata": {},
   "source": [
    "combined_df[\"n_nodes_plz\"]= combined_df.groupby('plz')[\"geometry\"].transform(\"count\")\n",
    "combined_df[\"pop_perc\"] = combined_df[\"einwohner\"] / combined_df[\"n_nodes_plz\"]\n",
    "combined_df[\"sum_pop_distance\"] = combined_df[\"distance\"] * combined_df[\"pop_perc\"]\n",
    "combined_df[\"sum_pop_distance\"].sum() / combined_df[\"pop_perc\"].sum()\n",
    "combined_df.groupby(\"plz\")[\"distance\"].mean()\n",
    "final_df = pd.merge(combined_df, agg_df, on=\"plz\", how=\"left\")\n",
    "final_df.groupby([\"plz\", \"resultHour\" ,\"resultWeekday\"])[\"average_res\"].mean().reset_index()"
   ]
  },
  {
   "cell_type": "markdown",
   "id": "12448dd6-b186-4871-a018-9e2baa74ed27",
   "metadata": {},
   "source": [
    "# Visualization"
   ]
  },
  {
   "cell_type": "code",
   "execution_count": null,
   "id": "53f9b705-69de-40ad-baea-5b090d6d56c9",
   "metadata": {},
   "outputs": [],
   "source": [
    "%%time\n",
    "\n",
    "trip_times = range(1, 51, 1)\n",
    "iso_colors = ox.plot.get_colors(n=len(trip_times), cmap='plasma', start=0.3, return_hex=True)\n",
    "iso_colors.reverse()\n",
    "\n",
    "def create_coords_dict(poi_df, filename, center_location =\"Hamburg, Germany\",  dist=5000, dict_export=False):\n",
    "    G =  ox.graph_from_address(center_location, dist=dist, network_type=\"walk\", simplify=True)\n",
    "\n",
    "\n",
    "    list_of_poi = []\n",
    "\n",
    "    for index, row in poi_df.iterrows():\n",
    "        list_of_poi.append(ox.distance.nearest_nodes(G, Y=row.coordinatesY, X=row.coordinatesX))\n",
    "\n",
    "    G = ox.project_graph(G)\n",
    "\n",
    "    node_distances = DictSmallest()\n",
    "\n",
    "    for poi in tqdm(list_of_poi):\n",
    "        tmp_res = nx.shortest_path_length(G, source=poi)\n",
    "        node_distances.update(tmp_res)\n",
    "        \n",
    "    \n",
    "    def color_mapping_function(val, iso_colors):\n",
    "\n",
    "        for time, color in zip(trip_times, iso_colors):\n",
    "            if val < time :\n",
    "                return color\n",
    "\n",
    "        return iso_colors[-1]\n",
    "\n",
    "    coords = {key: {\"x\": G.nodes[key][\"lon\"], \"y\": G.nodes[key][\"lat\"], \"distance\": node_distances[key],\n",
    "                    \"color\": color_mapping_function(node_distances[key], iso_colors)} for key in list(G.nodes())}\n",
    "    if dict_export:\n",
    "        with open(f'coords/{filename}.json', 'w') as outfile:\n",
    "            json.dump(coords, outfile, indent=4)\n",
    "    return coords\n",
    "   \n",
    "def create_folium_plot(coord_file, file_name, caption):\n",
    "\n",
    "    with open(\"coords/\" + coord_file, \"r\") as f:\n",
    "        coords = json.loads(f.read())\n",
    "\n",
    "\n",
    "    colormap = cm.LinearColormap(colors=iso_colors)\n",
    "    colormap = colormap.to_step(index=range(0, 51, 5))\n",
    "    colormap.caption = caption\n",
    "   \n",
    "    import folium\n",
    "    m = folium.Map(location=[53.555, 9.9914], zoom_start=12,prefer_canvas=True, \n",
    "                   )\n",
    "\n",
    "\n",
    "\n",
    "    for val in coords.values():\n",
    "        folium.Circle(\n",
    "          location=[val[\"y\"],val[\"x\"]],\n",
    "            radius=50,\n",
    "          #popup=\"Test\",\n",
    "        stroke=False,\n",
    "        fill=True,\n",
    "        color = val[\"color\"],\n",
    "        fill_opacity=0.3,\n",
    "        interactive=True\n",
    "\n",
    "       ).add_to(m)\n",
    "    colormap.add_to(m)\n",
    "    m.save(f'streamlit/pages/maps/{file_name}.html')"
   ]
  },
  {
   "cell_type": "code",
   "execution_count": null,
   "id": "59ba615e-ec4b-4d52-aa2e-e2faf83ae54c",
   "metadata": {},
   "outputs": [],
   "source": [
    "%%time\n",
    "create_coords_dict(unique_station, \"all_bike_15000\", dist=15000)"
   ]
  },
  {
   "cell_type": "code",
   "execution_count": null,
   "id": "faaf76cd-5d17-4752-94c2-d57b04ce33af",
   "metadata": {},
   "outputs": [],
   "source": [
    "%%time\n",
    "caption_bike = \"Walking distance in minutes to nearest bike station\"\n",
    "create_folium_plot(\"bike_10000.json\", \"hamburg_bike_darker_10000\",  caption=caption_bike)"
   ]
  },
  {
   "cell_type": "markdown",
   "id": "81d2e47c-de00-4849-a47d-8766723758e9",
   "metadata": {
    "tags": []
   },
   "source": [
    "# Analysis"
   ]
  },
  {
   "cell_type": "code",
   "execution_count": null,
   "id": "d9793956-a46a-48a2-af75-02fa9135e0d9",
   "metadata": {},
   "outputs": [],
   "source": [
    "coords_df = pd.read_json(\"coords/all_bike_15000.json\", orient=\"index\")"
   ]
  },
  {
   "cell_type": "code",
   "execution_count": null,
   "id": "efd28922-da5d-44a5-a4c5-407e9d9a7760",
   "metadata": {},
   "outputs": [],
   "source": [
    "coords_df = gpd.GeoDataFrame(\n",
    "    coords_df, geometry=gpd.points_from_xy(coords_df.x, coords_df.y))"
   ]
  },
  {
   "cell_type": "code",
   "execution_count": null,
   "id": "397cfae6-8e78-4a5d-9418-7d07b4403f19",
   "metadata": {},
   "outputs": [],
   "source": [
    "coords_df = coords_df.reset_index()"
   ]
  },
  {
   "cell_type": "code",
   "execution_count": null,
   "id": "c02c6137-39d8-4b03-8f9c-c7d8e9d08029",
   "metadata": {},
   "outputs": [],
   "source": [
    "hamburg_with_data[\"copy_geometry\"] = hamburg_with_data.geometry\n",
    "raw_joined_df = gpd.sjoin(coords_df, hamburg_with_data,  how=\"left\")\n"
   ]
  },
  {
   "cell_type": "markdown",
   "id": "9f88a7db-2776-4fa5-85fe-12a9431fbc5e",
   "metadata": {},
   "source": [
    "### Total Average Walking Distance"
   ]
  },
  {
   "cell_type": "code",
   "execution_count": null,
   "id": "464af764-98af-45f3-8f69-cd7b0ed2367a",
   "metadata": {},
   "outputs": [],
   "source": [
    "combined_df = raw_joined_df.loc[~raw_joined_df[\"stadtteil_name\"].isna()]\n",
    "combined_df[\"n_nodes_plz\"]= combined_df.groupby('stadtteil_name')[\"geometry\"].transform(\"count\")\n",
    "combined_df[\"pop_perc\"] = combined_df[\"Bevölkerung\"] / combined_df[\"n_nodes_plz\"]\n",
    "combined_df[\"sum_pop_distance\"] = combined_df[\"distance\"] * combined_df[\"pop_perc\"]\n",
    "combined_df[\"sum_pop_distance\"].sum() / combined_df[\"pop_perc\"].sum()"
   ]
  },
  {
   "cell_type": "code",
   "execution_count": null,
   "id": "36dd74f0-9e15-4ef3-a0ac-894917173644",
   "metadata": {},
   "outputs": [],
   "source": [
    "%%time\n",
    "plot_df = combined_df[[\"geometry\", \"sum_pop_distance\", \"distance\"]]\n",
    "trip_times = range(1, 300, 1)\n",
    "iso_colors = ox.plot.get_colors(n=len(trip_times), cmap='plasma', start=0.3, return_hex=True)\n",
    "iso_colors.reverse()\n",
    "\n",
    "def color_mapping_function(val, iso_colors):\n",
    "\n",
    "    for time, color in zip(trip_times, iso_colors):\n",
    "        if val < time :\n",
    "            return color\n",
    "\n",
    "    return iso_colors[-1]\n",
    "\n",
    "plot_df = gpd.GeoDataFrame(plot_df, geometry=plot_df[\"geometry\"])\n",
    "plot_df = plot_df.set_crs(epsg=4326)\n",
    "plot_df[\"color\"] = plot_df[\"sum_pop_distance\"].apply(color_mapping_function, iso_colors=iso_colors)\n",
    "\n",
    "colormap = cm.LinearColormap(colors=iso_colors)\n",
    "colormap = colormap.to_step(index=range(0, round(combined_df.sum_pop_distance.max()), 5))\n",
    "colormap.caption = \"Sum of minutes times population\"\n",
    "\n",
    "m = folium.Map(location=[53.555, 9.9914], zoom_start=12,prefer_canvas=True, \n",
    "               )\n",
    "\n",
    "\n",
    "\n",
    "for index, val in plot_df.iterrows():\n",
    "    folium.Circle(\n",
    "      location=[val[\"geometry\"].y,val[\"geometry\"].x],\n",
    "        radius=50,\n",
    "      #popup=\"Test\",\n",
    "    stroke=False,\n",
    "    fill=True,\n",
    "    color = val[\"color\"],\n",
    "    fill_opacity=0.3,\n",
    "    interactive=True\n",
    "\n",
    "   ).add_to(m)\n",
    "colormap.add_to(m)\n",
    "m.save(f'streamlit/pages/maps/bike_pop_dist.html')\n"
   ]
  },
  {
   "cell_type": "markdown",
   "id": "a461688a-ddc0-453d-9dac-f3e986488619",
   "metadata": {
    "tags": []
   },
   "source": [
    "### Walking Distance per District"
   ]
  },
  {
   "cell_type": "code",
   "execution_count": null,
   "id": "225db4da-0cbd-4fce-ae7a-fd0d0062457e",
   "metadata": {},
   "outputs": [],
   "source": [
    "combined_df[\"Bevölkerungs-dichte\"]= pd.to_numeric(combined_df[\"Bevölkerungs-dichte\"].str.replace(' ', ''))\n"
   ]
  },
  {
   "cell_type": "code",
   "execution_count": null,
   "id": "d014878c-f3db-48e2-93fa-13427e799c2c",
   "metadata": {},
   "outputs": [],
   "source": [
    "district_df = combined_df.groupby('stadtteil_name').agg({\"distance\": \"mean\", \n",
    "                            \"Bevölkerungs-dichte\": \"max\", \"Bevölkerung\": \"max\", \"copy_geometry\": \"first\"}).reset_index().sort_values('distance')\n"
   ]
  },
  {
   "cell_type": "code",
   "execution_count": null,
   "id": "a55a7aca-8b78-4fad-a8f0-6aeb70de6403",
   "metadata": {},
   "outputs": [],
   "source": [
    "district_df[\"rank_distance\"] = district_df[\"distance\"].rank()\n",
    "district_df[\"rank_density\"] = district_df[\"Bevölkerungs-dichte\"].rank(ascending=False)\n",
    "district_df[\"rank_diff\"] = district_df[\"rank_distance\"] - district_df[\"rank_density\"]\n",
    "district_df[\"rank_diff_abs\"]  = abs(district_df[\"rank_diff\"])"
   ]
  },
  {
   "cell_type": "code",
   "execution_count": null,
   "id": "a9d939b9-c0fe-4e36-8813-57c3b9238cc5",
   "metadata": {},
   "outputs": [],
   "source": [
    "pd.options.display.max_rows = 30\n",
    " "
   ]
  },
  {
   "cell_type": "code",
   "execution_count": null,
   "id": "8ee09563-970c-41f0-9bf8-e95646cab154",
   "metadata": {},
   "outputs": [],
   "source": [
    "district_df[\"distance_pop\"] = district_df[\"distance\"] * district_df[\"Bevölkerung\"]"
   ]
  },
  {
   "cell_type": "code",
   "execution_count": null,
   "id": "1632c82e-1afe-48a3-bf46-a7e9f53077ab",
   "metadata": {},
   "outputs": [],
   "source": [
    "district_df.sort_values('rank_diff_abs', ascending=False).head(5)"
   ]
  },
  {
   "cell_type": "code",
   "execution_count": null,
   "id": "12ebe90c-9432-43d9-8635-0ba12569c627",
   "metadata": {},
   "outputs": [],
   "source": [
    "plot_df = gpd.GeoDataFrame(district_df, geometry=district_df[\"copy_geometry\"])\n",
    "plot_df = plot_df.set_crs(epsg=4326)\n",
    "\n",
    "m = folium.Map(location=[53.555, 9.9914], zoom_start=12,prefer_canvas=True)\n",
    "#plot_df.explore(m=m, column=\"distance_pop\", cmap=\"plasma_r\", style_kwds={\"fillOpacity\": 0.75})"
   ]
  },
  {
   "cell_type": "markdown",
   "id": "9c1797f8-51a9-4481-b6c5-6ecaf3bd35d9",
   "metadata": {
    "tags": []
   },
   "source": [
    "### Average bike per District"
   ]
  },
  {
   "cell_type": "code",
   "execution_count": null,
   "id": "7d0a8616-1cc2-4694-b43f-d704d6a060e9",
   "metadata": {},
   "outputs": [],
   "source": [
    "station_total_average = gpd.GeoDataFrame(station_df.groupby('thingID').agg({\"average_res\": \"mean\", \"geometry\": \"first\"}).reset_index())"
   ]
  },
  {
   "cell_type": "code",
   "execution_count": null,
   "id": "a98a9685-80b7-41c4-ad3e-eb07ea5726b8",
   "metadata": {},
   "outputs": [],
   "source": [
    "combined_station_df = station_total_average.sjoin(hamburg_with_data, how=\"left\")"
   ]
  },
  {
   "cell_type": "code",
   "execution_count": null,
   "id": "7ea980b3-c459-45dd-b1ce-e6ce681fdf60",
   "metadata": {},
   "outputs": [],
   "source": [
    "district_bikes_df = combined_station_df.groupby('stadtteil_name').agg({\"average_res\": \"sum\", \"Bevölkerung\": \"first\"}).reset_index()"
   ]
  },
  {
   "cell_type": "code",
   "execution_count": null,
   "id": "d89adcfb-8c01-447b-93ab-4c3a4892a53d",
   "metadata": {},
   "outputs": [],
   "source": [
    "district_bikes_df[\"bikes_per_person\"] = district_bikes_df[\"average_res\"] /  district_bikes_df[\"Bevölkerung\"]\n",
    "district_bikes_df[\"persons_per_bike\"] =   district_bikes_df[\"Bevölkerung\"] / district_bikes_df[\"average_res\"]"
   ]
  },
  {
   "cell_type": "code",
   "execution_count": null,
   "id": "f0ab5686-308a-4c2f-b2a1-564c7622d473",
   "metadata": {},
   "outputs": [],
   "source": [
    "plot_df = pd.concat([district_bikes_df.sort_values(\"bikes_per_person\", ascending=False)[:5], \n",
    "                    district_bikes_df.sort_values(\"bikes_per_person\", ascending=False)[-5:]])"
   ]
  },
  {
   "cell_type": "code",
   "execution_count": null,
   "id": "77c709b2-da15-4305-998d-dba52f4c2d7c",
   "metadata": {},
   "outputs": [],
   "source": [
    "plot_df"
   ]
  },
  {
   "cell_type": "code",
   "execution_count": null,
   "id": "591a7cd9-ce76-4d03-9ede-3d9623161c0b",
   "metadata": {},
   "outputs": [],
   "source": [
    "sns.set_theme(style=\"whitegrid\")\n",
    "ax = sns.barplot(x=\"bikes_per_person\", y=\"stadtteil_name\", data=plot_df, orient='h')\n",
    "\n",
    "ax.bar_label(ax.containers[0], fmt='%.2f')\n",
    "ax.set_xlim(right=6)\n",
    "ax.set_ylabel(\"District Name\")\n",
    "ax.set_xlabel(\"Bikes per Inhabitant\")\n",
    "ax.set_title('Top and Bottom 5 Districts for average bikes per inhabitant')"
   ]
  },
  {
   "cell_type": "code",
   "execution_count": null,
   "id": "29f8c41d-e668-4505-b28b-3d4d6fb140c5",
   "metadata": {},
   "outputs": [],
   "source": [
    "ax.containers[0]"
   ]
  },
  {
   "cell_type": "markdown",
   "id": "2fe9582a-25a3-4cd9-bdde-cc6b9f1770b0",
   "metadata": {
    "tags": []
   },
   "source": [
    "### Average bike per District and hour"
   ]
  },
  {
   "cell_type": "code",
   "execution_count": null,
   "id": "79a67d3a-9d06-45e9-bc1a-47fea936aba9",
   "metadata": {},
   "outputs": [],
   "source": [
    "combined_station_df = station_df.sjoin(hamburg_with_data, how=\"left\")"
   ]
  },
  {
   "cell_type": "code",
   "execution_count": null,
   "id": "aedfb9bd-c2ec-41ad-83e6-dc394e0eec9a",
   "metadata": {},
   "outputs": [],
   "source": [
    "district_bikes_df = combined_station_df.groupby(['stadtteil_name', 'resultHour', 'resultWeekday']).agg({\"average_res\": \"sum\", \"Bevölkerung\": \"first\"}).reset_index()"
   ]
  },
  {
   "cell_type": "code",
   "execution_count": null,
   "id": "046c2f62-9e82-45fb-82ba-1bdf8e717cc5",
   "metadata": {},
   "outputs": [],
   "source": [
    "district_bikes_df[\"bikes_per_person\"] = district_bikes_df[\"average_res\"] /  district_bikes_df[\"Bevölkerung\"]\n",
    "district_bikes_df[\"persons_per_bike\"] =   district_bikes_df[\"Bevölkerung\"] / district_bikes_df[\"average_res\"]"
   ]
  },
  {
   "cell_type": "code",
   "execution_count": null,
   "id": "a766bdef-5e64-4522-a31f-bd1d4acaa6f2",
   "metadata": {},
   "outputs": [],
   "source": [
    "district_bikes_df.groupby('stadtteil_name').agg(Mean=(\"average_res\", np.mean),\n",
    "                                                Min= (\"average_res\", np.min),\n",
    "                                                Max= (\"average_res\", np.max),\n",
    "                                                Std= (\"average_res\", np.std)).sort_values('Std', ascending=False)"
   ]
  },
  {
   "cell_type": "code",
   "execution_count": null,
   "id": "d9693701-50e3-4110-a80e-e19837e9a572",
   "metadata": {},
   "outputs": [],
   "source": [
    "import plotly.express as px\n",
    "\n",
    "\n",
    "day_dict = {}\n",
    "for i in range(7):\n",
    "    day_dict[i+1] = calendar.day_name[i]\n",
    "    \n",
    "district_bikes_df[\"weekday_name\"] = district_bikes_df[\"resultWeekday\"].map(day_dict)\n",
    "\n",
    "data = district_bikes_df.query('stadtteil_name == \"Hamburg-Altstadt\"').sort_values(['resultWeekday','resultHour'])[[\"average_res\",\n",
    "                                                                            \"weekday_name\", \"resultHour\"]]\n",
    "data[\"resultHour\"] = data[\"resultHour\"].astype(str)\n",
    "\n",
    "categories = list(range(23))\n",
    "\n",
    "\n",
    "fig = px.line_polar(data, r='average_res', theta='resultHour', color='weekday_name', line_close=True, \n",
    "                    title=\"Bikes in the district Hamburg-Altstadt by day and hour\", height=680,\n",
    "                   labels={\"weekday_name\" : \"Weekday\"})\n",
    "#fig.update_traces(fill='toself')\n",
    "fig.show()"
   ]
  },
  {
   "cell_type": "markdown",
   "id": "95d000be-2d6c-4b79-aa72-a76e7226fea6",
   "metadata": {},
   "source": [
    "## Optmize Stations"
   ]
  },
  {
   "cell_type": "code",
   "execution_count": null,
   "id": "2f7adfec-9c69-4e30-82ec-277b59576bd4",
   "metadata": {},
   "outputs": [],
   "source": [
    "from shapely.geometry import Point\n",
    "raw_joined_df = gpd.sjoin(coords_df, hamburg_with_data,  how=\"left\")"
   ]
  },
  {
   "cell_type": "code",
   "execution_count": null,
   "id": "8ee63eb0-b273-4e6e-8743-bd9d824a5d84",
   "metadata": {},
   "outputs": [],
   "source": [
    "original_df = raw_joined_df.loc[~raw_joined_df[\"stadtteil_name\"].isna()]\n",
    "original_df[\"n_nodes_plz\"]= original_df.groupby('stadtteil_name')[\"geometry\"].transform(\"count\")\n",
    "original_df[\"pop_perc\"] = original_df[\"Bevölkerung\"] / original_df[\"n_nodes_plz\"]\n",
    "original_df[\"sum_pop_distance\"] = original_df[\"distance\"] * original_df[\"pop_perc\"]\n"
   ]
  },
  {
   "cell_type": "code",
   "execution_count": null,
   "id": "bc399cfd-76f8-4c87-b59a-243c645bc42c",
   "metadata": {},
   "outputs": [],
   "source": [
    "G =  ox.graph_from_address(\"Hamburg, Germany\", dist=10000, network_type=\"walk\", simplify=True)\n",
    "\n",
    "gdf_nodes = ox.graph_to_gdfs(G, edges=False)  "
   ]
  },
  {
   "cell_type": "code",
   "execution_count": null,
   "id": "163e2eae-eceb-4135-ba61-0303d73f7452",
   "metadata": {},
   "outputs": [],
   "source": [
    "new_station = unique_station.copy(deep=True)\n",
    "new_station.loc[len(new_station)] = original_df.sort_values(\"sum_pop_distance\", ascending=False)[[\"y\", \"x\"]].iloc[0].values"
   ]
  },
  {
   "cell_type": "code",
   "execution_count": null,
   "id": "2595446b-e4c3-42c0-8433-7e448293747c",
   "metadata": {},
   "outputs": [],
   "source": [
    "def get_distance_dict(list_of_poi, G):\n",
    "\n",
    "    G_projected= ox.project_graph(G)\n",
    "\n",
    "    node_distances = DictSmallest()\n",
    "\n",
    "    for poi in list_of_poi:\n",
    "        tmp_res = nx.shortest_path_length(G_projected, source=poi)\n",
    "        node_distances.update(tmp_res)\n",
    "\n",
    "    coords = {key: {\"x\": G_projected.nodes[key][\"lon\"], \"y\": G_projected.nodes[key][\"lat\"],\n",
    "                    \"distance\": node_distances[key]} for key in list(G_projected.nodes())}\n",
    "    return coords\n"
   ]
  },
  {
   "cell_type": "code",
   "execution_count": null,
   "id": "3fbdad94-da0a-4f01-b19e-5e0589303d7d",
   "metadata": {},
   "outputs": [],
   "source": [
    "def get_new_distances_df(coords_dict, hamburg_with_data):\n",
    "    coords_df = pd.DataFrame.from_dict(coords_dict, orient=\"index\")\n",
    "    coords_df = gpd.GeoDataFrame(coords_df, geometry=gpd.points_from_xy(coords_df.x, coords_df.y))\n",
    "    raw_joined_df = gpd.sjoin(coords_df, hamburg_with_data,  how=\"left\")\n",
    "    combined_df = raw_joined_df.loc[~raw_joined_df[\"stadtteil_name\"].isna()].copy(deep=True)\n",
    "    combined_df[\"n_nodes_plz\"]= combined_df.groupby('stadtteil_name')[\"geometry\"].transform(\"count\")\n",
    "    combined_df[\"pop_perc\"] = combined_df[\"Bevölkerung\"] / combined_df[\"n_nodes_plz\"]\n",
    "    combined_df[\"sum_pop_distance\"] = combined_df[\"distance\"] * combined_df[\"pop_perc\"]\n",
    "    return combined_df"
   ]
  },
  {
   "cell_type": "code",
   "execution_count": null,
   "id": "c944fdcd-ffff-442c-98eb-734aff475a4d",
   "metadata": {},
   "outputs": [],
   "source": [
    "def get_metrics(combined_df, print_output=False):\n",
    "    sum_pop_minutes = combined_df['sum_pop_distance'].sum()\n",
    "    average_pop_minutes = combined_df['sum_pop_distance'].sum() / combined_df['pop_perc'].sum()\n",
    "    if print_output:\n",
    "        print(f\"Total Pop Minutes: {sum_pop_minutes}\")\n",
    "        print(f\"Average Pop Minutes: {average_pop_minutes}\")\n",
    "    return sum_pop_minutes, average_pop_minutes"
   ]
  },
  {
   "cell_type": "code",
   "execution_count": null,
   "id": "6c7e7069-6af0-4b86-a2dc-9bd6f5ad19d1",
   "metadata": {},
   "outputs": [],
   "source": [
    "unique_station = station_df.groupby('thingID')[[\"coordinatesY\", \"coordinatesX\"]].min()\n",
    "unique_station = unique_station.reset_index(drop=True)\n",
    "all_stations = unique_station.copy(deep=True)"
   ]
  },
  {
   "cell_type": "code",
   "execution_count": null,
   "id": "787f9866-49c3-48cb-b0a5-8385a9fb5fd5",
   "metadata": {},
   "outputs": [],
   "source": [
    "G =  ox.graph_from_address(\"Hamburg, Germany\", dist=15000, network_type=\"walk\", simplify=True)\n",
    "G_small = ox.graph_from_address(\"Hamburg, Germany\", dist=1000, network_type=\"walk\", simplify=True)\n"
   ]
  },
  {
   "cell_type": "markdown",
   "id": "47afa584-6a9b-4cd0-805e-566407f7d11e",
   "metadata": {},
   "source": [
    "#### Old Values"
   ]
  },
  {
   "cell_type": "code",
   "execution_count": null,
   "id": "6a771ca7-a47d-49f6-9e61-5907b7b872c3",
   "metadata": {},
   "outputs": [],
   "source": [
    "list_of_poi = []\n",
    "\n",
    "for index, row in all_stations.iterrows():\n",
    "    list_of_poi.append(ox.distance.nearest_nodes(G, Y=row.coordinatesY, X=row.coordinatesX))\n",
    "    \n",
    "new_coords = get_distance_dict(list_of_poi, G)"
   ]
  },
  {
   "cell_type": "code",
   "execution_count": null,
   "id": "05ba34b9-0e1a-41d1-b328-af0b3fbd0e22",
   "metadata": {},
   "outputs": [],
   "source": [
    "old_station_df = get_new_distances_df(new_coords, hamburg_with_data)"
   ]
  },
  {
   "cell_type": "code",
   "execution_count": null,
   "id": "857231a1-2555-4254-9d91-c7430e43c631",
   "metadata": {},
   "outputs": [],
   "source": [
    "get_metrics(old_station_df, print_output=True)"
   ]
  },
  {
   "cell_type": "markdown",
   "id": "ef182bf8-9d50-4e56-a3fc-96c2ad19b60c",
   "metadata": {},
   "source": [
    "#### Placing new stations"
   ]
  },
  {
   "cell_type": "code",
   "execution_count": null,
   "id": "d6d14392-a95e-4aa8-bb52-8b2b7648b186",
   "metadata": {
    "tags": []
   },
   "outputs": [],
   "source": [
    "def place_new_stations(G, original_df, unique_station, n_new_stations=5):\n",
    "    working_df = original_df.copy(deep=True)\n",
    "    new_stations_perf = pd.DataFrame(columns=[\"y\", \"x\", \"sum_pop_minutes\", \"average_pop_minutes\"])\n",
    "    \n",
    "    list_of_poi = []\n",
    "\n",
    "    for index, row in unique_station.iterrows():\n",
    "        list_of_poi.append(ox.distance.nearest_nodes(G, Y=row.coordinatesY, X=row.coordinatesX))\n",
    "\n",
    "    \n",
    "    for n in tqdm(range(n_new_stations)):\n",
    "        new_y, new_x = working_df.sort_values(\"sum_pop_distance\", ascending=False)[[\"y\", \"x\"]].iloc[0].values\n",
    "        list_of_poi.append(ox.distance.nearest_nodes(G, Y=new_y, X=new_x))\n",
    "        new_coords = get_distance_dict(list_of_poi, G)\n",
    "        working_df = get_new_distances_df(new_coords, hamburg_with_data).copy(deep=True)\n",
    "        sum_pop_minutes, average_pop_minutes = get_metrics(working_df)\n",
    "        working_df.to_csv('working_df.csv', index=False)        \n",
    "        print(new_y, new_x, sum_pop_minutes, average_pop_minutes)\n",
    "        new_stations_perf.loc[len(new_stations_perf)] = [new_y, new_x, sum_pop_minutes, average_pop_minutes]\n",
    "        new_stations_perf.to_csv('new_stations_perf.csv', index=False)\n",
    "    return (new_stations_perf, working_df)"
   ]
  },
  {
   "cell_type": "code",
   "execution_count": null,
   "id": "e78a2141-5fd0-43f3-8cbd-92d9c643841d",
   "metadata": {},
   "outputs": [],
   "source": [
    "test_perf, working_df = place_new_stations(G, original_df, unique_station, n_new_stations=100)"
   ]
  },
  {
   "cell_type": "code",
   "execution_count": null,
   "id": "482216ce-e51f-4a87-8b76-7aa894d7f841",
   "metadata": {},
   "outputs": [],
   "source": [
    "test_perf = pd.read_csv('new_stations_perf.csv')\n",
    "test_perf = gpd.GeoDataFrame(\n",
    "        test_perf, geometry=gpd.points_from_xy(test_perf.x, test_perf.y))"
   ]
  },
  {
   "cell_type": "code",
   "execution_count": null,
   "id": "426e96d1-d167-4c2e-86a9-7a2dec3a98b6",
   "metadata": {},
   "outputs": [],
   "source": [
    "test_perf.average_pop_minutes.plot(xlabel=\"Number of new stations\", ylabel=\"Average Walking Distance\")"
   ]
  },
  {
   "cell_type": "code",
   "execution_count": null,
   "id": "3251567e-b706-4aaa-9642-d97c44a84596",
   "metadata": {},
   "outputs": [],
   "source": [
    "working_df = pd.read_csv('working_df.csv')"
   ]
  },
  {
   "cell_type": "code",
   "execution_count": null,
   "id": "f86ebf45-4d2e-4846-91ff-6afe39842f80",
   "metadata": {},
   "outputs": [],
   "source": [
    "%%time\n",
    "new_coords = get_distance_dict(list_of_poi, G)\n",
    "working_df = get_new_distances_df(new_coords, hamburg_with_data).copy(deep=True)"
   ]
  },
  {
   "cell_type": "code",
   "execution_count": null,
   "id": "59c5e2ba-1476-4881-817b-404074e7c50e",
   "metadata": {},
   "outputs": [],
   "source": [
    "district_df = combined_df.groupby('stadtteil_name').agg({\"distance\": \"mean\", \n",
    "                            \"Bevölkerungs-dichte\": \"max\", \"Bevölkerung\": \"max\", \"copy_geometry\": \"first\"}).reset_index().sort_values('distance')\n",
    "\n",
    "district_df[\"distance_pop\"] = district_df[\"distance\"] * district_df[\"Bevölkerung\"]\n",
    "plot_df = gpd.GeoDataFrame(district_df, geometry=district_df[\"copy_geometry\"])\n",
    "plot_df = plot_df.set_crs(epsg=4326)\n",
    "\n",
    "m = folium.Map(location=[53.555, 9.9914], zoom_start=11,prefer_canvas=True)\n",
    "\n",
    "plot_df.explore(m=m, column=\"distance_pop\", cmap=\"plasma_r\", \n",
    "                legend_kwds={'max_labels':6},\n",
    "                style_kwds={\"fillOpacity\": 0.75})\n",
    "\n",
    "test_perf.explore(m=m)"
   ]
  },
  {
   "cell_type": "code",
   "execution_count": null,
   "id": "991d5fa8-dae4-4cf7-b9d1-efa242f67aa7",
   "metadata": {},
   "outputs": [],
   "source": [
    "max_value = round(plot_df[\"distance_pop\"].max())\n",
    "min_value = round(plot_df[\"distance_pop\"].min())"
   ]
  },
  {
   "cell_type": "code",
   "execution_count": null,
   "id": "8cafbe27-d3a0-4bbd-8119-3cb64faa5e15",
   "metadata": {},
   "outputs": [],
   "source": [
    "%%time\n",
    "plot_df = working_df[[\"geometry\", \"sum_pop_distance\", \"distance\"]]\n",
    "trip_times = range(1, 700)\n",
    "iso_colors = ox.plot.get_colors(n=len(trip_times), cmap='plasma', start=0.3, return_hex=True)\n",
    "iso_colors.reverse()\n",
    "\n",
    "def color_mapping_function(val, iso_colors):\n",
    "\n",
    "    for time, color in zip(trip_times, iso_colors):\n",
    "        if val < time :\n",
    "            return color\n",
    "\n",
    "    return iso_colors[-1]\n",
    "\n",
    "plot_df[\"geometry\"] = plot_df[\"geometry\"].apply(wkt.loads)\n",
    "\n",
    "plot_df = gpd.GeoDataFrame(plot_df, geometry=plot_df[\"geometry\"])\n",
    "plot_df = plot_df.set_crs(epsg=4326)\n",
    "plot_df[\"color\"] = plot_df[\"sum_pop_distance\"].apply(color_mapping_function, iso_colors=iso_colors)\n",
    "\n",
    "colormap = cm.LinearColormap(colors=iso_colors)\n",
    "colormap = colormap.to_step(index=range(0, 700))\n",
    "colormap.caption = \"Weighted walking distance by population\"\n",
    "\n",
    "m = folium.Map(location=[53.555, 9.9914], zoom_start=12,prefer_canvas=True)\n",
    "\n",
    "for index, val in plot_df.iterrows():\n",
    "    folium.Circle(\n",
    "      location=[val[\"geometry\"].y,val[\"geometry\"].x],\n",
    "        radius=50,\n",
    "      #popup=\"Test\",\n",
    "    stroke=False,\n",
    "    fill=True,\n",
    "    color = val[\"color\"],\n",
    "    fill_opacity=0.3,\n",
    "    interactive=True\n",
    "\n",
    "   ).add_to(m)\n",
    "colormap.add_to(m)\n",
    "test_perf.explore(m=m, marker_kwds={\"radius\": 5})\n",
    "m.save(f'streamlit/pages/maps/new_bike_dist_pop.html')"
   ]
  },
  {
   "cell_type": "code",
   "execution_count": null,
   "id": "92c3bfa2-c727-408c-bb49-049185a00467",
   "metadata": {},
   "outputs": [],
   "source": [
    "%%time\n",
    "plot_df = combined_df[[\"geometry\", \"sum_pop_distance\", \"distance\"]]\n",
    "trip_times = range(1, 700)\n",
    "iso_colors = ox.plot.get_colors(n=len(trip_times), cmap='plasma', start=0.3, return_hex=True)\n",
    "iso_colors.reverse()\n",
    "\n",
    "def color_mapping_function(val, iso_colors):\n",
    "\n",
    "    for time, color in zip(trip_times, iso_colors):\n",
    "        if val < time :\n",
    "            return color\n",
    "\n",
    "    return iso_colors[-1]\n",
    "\n",
    "#plot_df[\"geometry\"] = plot_df[\"geometry\"].apply(wkt.loads)\n",
    "\n",
    "plot_df = gpd.GeoDataFrame(plot_df, geometry=plot_df[\"geometry\"])\n",
    "plot_df = plot_df.set_crs(epsg=4326)\n",
    "plot_df[\"color\"] = plot_df[\"sum_pop_distance\"].apply(color_mapping_function, iso_colors=iso_colors)\n",
    "\n",
    "colormap = cm.LinearColormap(colors=iso_colors)\n",
    "colormap = colormap.to_step(index=range(0, 700))\n",
    "colormap.caption = \"Weighted walking distance by population\"\n",
    "\n",
    "m = folium.Map(location=[53.555, 9.9914], zoom_start=12,prefer_canvas=True)\n",
    "\n",
    "for index, val in plot_df.iterrows():\n",
    "    folium.Circle(\n",
    "      location=[val[\"geometry\"].y,val[\"geometry\"].x],\n",
    "        radius=50,\n",
    "      #popup=\"Test\",\n",
    "    stroke=False,\n",
    "    fill=True,\n",
    "    color = val[\"color\"],\n",
    "    fill_opacity=0.3,\n",
    "    interactive=True\n",
    "\n",
    "   ).add_to(m)\n",
    "colormap.add_to(m)\n",
    "m.save(f'streamlit/pages/maps/bike_dist_pop.html')"
   ]
  },
  {
   "cell_type": "code",
   "execution_count": null,
   "id": "bb34c83b-30e7-4218-bc70-bfc92c6286ce",
   "metadata": {},
   "outputs": [],
   "source": [
    "combined_df.sum_pop_distance.describe()"
   ]
  },
  {
   "cell_type": "code",
   "execution_count": null,
   "id": "9a9addf0-2fe2-4fc4-b7c9-4397edb5337c",
   "metadata": {},
   "outputs": [],
   "source": [
    "%%time\n",
    "plot_df = working_Df[[\"geometry\", \"sum_pop_distance\", \"distance\"]]\n",
    "trip_times = range(1, 50, 1)\n",
    "iso_colors = ox.plot.get_colors(n=len(trip_times), cmap='plasma', start=0.3, return_hex=True)\n",
    "iso_colors.reverse()\n",
    "\n",
    "def color_mapping_function(val, iso_colors):\n",
    "\n",
    "    for time, color in zip(trip_times, iso_colors):\n",
    "        if val < time :\n",
    "            return color\n",
    "\n",
    "    return iso_colors[-1]\n",
    "\n",
    "plot_df[\"geometry\"] = plot_df[\"geometry\"].apply(wkt.loads)\n",
    "\n",
    "plot_df = gpd.GeoDataFrame(plot_df, geometry=plot_df[\"geometry\"])\n",
    "plot_df = plot_df.set_crs(epsg=4326)\n",
    "plot_df[\"color\"] = plot_df[\"distance\"].apply(color_mapping_function, iso_colors=iso_colors)\n",
    "\n",
    "colormap = cm.LinearColormap(colors=iso_colors)\n",
    "colormap = colormap.to_step(index=range(0, 50, 1))\n",
    "colormap.caption = \"Average walking distance\"\n",
    "\n",
    "m = folium.Map(location=[53.555, 9.9914], zoom_start=12,prefer_canvas=True, \n",
    "               )\n",
    "\n",
    "\n",
    "\n",
    "for index, val in plot_df.iterrows():\n",
    "    folium.Circle(\n",
    "      location=[val[\"geometry\"].y,val[\"geometry\"].x],\n",
    "        radius=50,\n",
    "      #popup=\"Test\",\n",
    "    stroke=False,\n",
    "    fill=True,\n",
    "    color = val[\"color\"],\n",
    "    fill_opacity=0.3,\n",
    "    interactive=True\n",
    "\n",
    "   ).add_to(m)\n",
    "colormap.add_to(m)\n",
    "test_perf.explore(m=m, marker_kwds={\"radius\": 5})\n",
    "m.save(f'streamlit/pages/maps/new_bike_dist.html')\n"
   ]
  },
  {
   "cell_type": "code",
   "execution_count": null,
   "id": "5489024d-af6c-402e-a02b-4dff2c64503d",
   "metadata": {},
   "outputs": [],
   "source": [
    "%%time\n",
    "\n",
    "trip_times = range(1, 51, 1)\n",
    "iso_colors = ox.plot.get_colors(n=len(trip_times), cmap='plasma', start=0.3, return_hex=True)\n",
    "iso_colors.reverse()\n",
    "\n",
    "for index, row in tqdm(test_perf.iterrows()):\n",
    "    list_of_poi.append(ox.distance.nearest_nodes(G, Y=row[\"y\"], X=row[\"x\"]))\n",
    "    \n",
    "\n",
    "G = ox.project_graph(G)\n",
    "\n",
    "node_distances = DictSmallest()\n"
   ]
  },
  {
   "cell_type": "code",
   "execution_count": null,
   "id": "5bbd5579-0e8f-4bd2-8018-7b4209d23c29",
   "metadata": {},
   "outputs": [],
   "source": [
    "node_distances = DictSmallest()\n",
    "\n",
    "for poi in tqdm(list_of_poi):\n",
    "    tmp_res = nx.shortest_path_length(G, source=poi)\n",
    "    node_distances.update(tmp_res)"
   ]
  },
  {
   "cell_type": "code",
   "execution_count": null,
   "id": "cf5b23bc-705e-4c6c-9910-f87525b5c669",
   "metadata": {},
   "outputs": [],
   "source": [
    "def color_mapping_function(val, iso_colors):\n",
    "\n",
    "    for time, color in zip(trip_times, iso_colors):\n",
    "        if val < time :\n",
    "            return color\n",
    "\n",
    "    return iso_colors[-1]\n",
    "\n",
    "coords = {key: {\"x\": G.nodes[key][\"lon\"], \"y\": G.nodes[key][\"lat\"], \"distance\": node_distances[key],\n",
    "                \"color\": color_mapping_function(node_distances[key], iso_colors)} for key in list(G.nodes())}\n"
   ]
  },
  {
   "cell_type": "code",
   "execution_count": null,
   "id": "1d023a5c-8b16-4456-93d4-76950ac7b827",
   "metadata": {},
   "outputs": [],
   "source": [
    "%%time\n",
    "colormap = cm.LinearColormap(colors=iso_colors)\n",
    "colormap = colormap.to_step(index=range(0, 51, 5))\n",
    "colormap.caption = \"Walking distance in minutes to nearest bike station\"\n",
    "\n",
    "m = folium.Map(location=[53.555, 9.9914], zoom_start=12,prefer_canvas=True, \n",
    "               )\n",
    "\n",
    "\n",
    "\n",
    "for val in coords.values():\n",
    "    folium.Circle(\n",
    "      location=[val[\"y\"],val[\"x\"]],\n",
    "        radius=50,\n",
    "      #popup=\"Test\",\n",
    "    stroke=False,\n",
    "    fill=True,\n",
    "    color = val[\"color\"],\n",
    "    fill_opacity=0.3,\n",
    "    interactive=True\n",
    "\n",
    "   ).add_to(m)\n",
    "colormap.add_to(m)\n",
    "test_perf.explore(m=m, marker_kwds={\"radius\": 5})\n",
    "\n",
    "m.save(f'streamlit/pages/maps/bike_with_new_stations.html')"
   ]
  }
 ],
 "metadata": {
  "kernelspec": {
   "display_name": "Python 3 (ipykernel)",
   "language": "python",
   "name": "python3"
  },
  "language_info": {
   "codemirror_mode": {
    "name": "ipython",
    "version": 3
   },
   "file_extension": ".py",
   "mimetype": "text/x-python",
   "name": "python",
   "nbconvert_exporter": "python",
   "pygments_lexer": "ipython3",
   "version": "3.10.4"
  },
  "vscode": {
   "interpreter": {
    "hash": "31f2aee4e71d21fbe5cf8b01ff0e069b9275f58929596ceb00d14d90e3e16cd6"
   }
  }
 },
 "nbformat": 4,
 "nbformat_minor": 5
}
