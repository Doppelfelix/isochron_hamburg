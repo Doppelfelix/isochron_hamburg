{
 "cells": [
  {
   "cell_type": "markdown",
   "id": "7e74ed83-fc52-482e-a3be-d36ca05e73d2",
   "metadata": {},
   "source": [
    "# Graph Calculation"
   ]
  },
  {
   "cell_type": "code",
   "execution_count": null,
   "id": "3d765cb6",
   "metadata": {},
   "outputs": [],
   "source": [
    "import branca.colormap as cm\n",
    "import pandas as pd\n",
    "import geopandas as gpd\n",
    "import networkx as nx\n",
    "import folium\n",
    "import osmnx as ox"
   ]
  },
  {
   "cell_type": "code",
   "execution_count": null,
   "id": "5ed7bd16",
   "metadata": {},
   "outputs": [],
   "source": [
    "class DictSmallest(dict):\n",
    "    def __setitem__(self, key, value):\n",
    "        if (key not in self) or (key in self and self[key] > value):\n",
    "            dict.__setitem__(self, key, value)\n",
    "    def update(self, dict):\n",
    "        for key, value in dict.items():\n",
    "            if (key not in self) or (key in self and self[key] > value):\n",
    "                self[key] =  value"
   ]
  },
  {
   "cell_type": "code",
   "execution_count": null,
   "id": "0fbc0c8a",
   "metadata": {},
   "outputs": [],
   "source": [
    "all_station_df = pd.read_csv('cleaned_stations.csv')\n",
    "all_sub_df = all_station_df.loc[(all_station_df[\"subway\"] == True) | (all_station_df[\"suburban\"] == True)]"
   ]
  },
  {
   "cell_type": "code",
   "execution_count": null,
   "id": "fdf18fa6-c091-42d0-b126-68f0fff955cf",
   "metadata": {},
   "outputs": [],
   "source": [
    "G = ox.graph_from_address(\"Hamburg, Germany\", \n",
    "  dist=10000, \n",
    "  network_type=\"walk\", \n",
    "  simplify=True)\n",
    "gdf_nodes = ox.graph_to_gdfs(G, edges=False)"
   ]
  },
  {
   "cell_type": "code",
   "execution_count": null,
   "id": "424a489f-c0aa-40ce-9b17-d070fb87e4ff",
   "metadata": {},
   "outputs": [],
   "source": [
    "list_of_poi = []\n",
    "for index, row in all_sub_df.iterrows():\n",
    "    list_of_poi.append(ox.distance.nearest_nodes(G, Y=row.lat, X=row.lon))\n",
    "\n",
    "G = ox.project_graph(G)\n",
    "\n",
    "node_distances = DictSmallest()\n",
    "\n",
    "for poi in list_of_poi:\n",
    "    tmp_res = nx.shortest_path_length(G, source=poi)\n",
    "    node_distances.update(tmp_res)\n",
    " \n",
    "\n",
    "coords = {key: {\"lon\": G.nodes[key][\"lon\"], \"lat\": G.nodes[key][\"lat\"], \"distance\": node_distances[key]} for key in list(G.nodes())}"
   ]
  },
  {
   "cell_type": "code",
   "execution_count": null,
   "id": "a7b1b271-5e8d-4d86-8a64-3d2cbc0f7e50",
   "metadata": {},
   "outputs": [],
   "source": [
    "node_distances = DictSmallest()\n",
    "\n",
    "for poi in list_of_poi:\n",
    "    tmp_res = nx.shortest_path_length(G, source=poi)\n",
    "    node_distances.update(tmp_res)"
   ]
  },
  {
   "cell_type": "markdown",
   "id": "12448dd6-b186-4871-a018-9e2baa74ed27",
   "metadata": {},
   "source": [
    "# Visualization"
   ]
  },
  {
   "cell_type": "code",
   "execution_count": null,
   "id": "43bd1d1a-d541-4c2f-b89b-7c7a99084c4b",
   "metadata": {},
   "outputs": [],
   "source": [
    "trip_times = range(1, 51, 1)\n",
    "\n",
    "iso_colors = ox.plot.get_colors(n=len(trip_times), cmap='plasma', start=0.3, return_hex=True)\n",
    "iso_colors.reverse()\n",
    "\n",
    "colormap = cm.LinearColormap(colors=iso_colors)\n",
    "colormap = colormap.to_step(index=range(0, 51, 5))\n",
    "    \n",
    "\n",
    "def color_mapping_function(val, iso_colors):\n",
    "\n",
    "    for time, color in zip(trip_times, iso_colors):\n",
    "        if val < time :\n",
    "            return color\n",
    "\n",
    "    return iso_colors[-1]\n",
    "\n",
    "coords = {key: {\"x\": G.nodes[key][\"lon\"], \"y\": G.nodes[key][\"lat\"], \"color\": color_mapping_function(node_distances[key], iso_colors)} for key in list(G.nodes())}"
   ]
  },
  {
   "cell_type": "code",
   "execution_count": null,
   "id": "9f4a41ac-3870-4404-aa57-60b4653c862d",
   "metadata": {},
   "outputs": [],
   "source": [
    "colormap = cm.LinearColormap(colors=iso_colors)\n",
    "colormap = colormap.to_step(index=range(0, 51, 5))\n",
    "\n",
    "m = folium.Map(\n",
    "    location=[53.555, 9.9914],\n",
    "    zoom_start=12,\n",
    "    prefer_canvas=True,\n",
    ")\n",
    "\n",
    "\n",
    "for val in coords.values():\n",
    "    folium.Circle(\n",
    "        location=[val[\"y\"], val[\"x\"]],\n",
    "        radius=50,\n",
    "        stroke=False,\n",
    "        fill=True,\n",
    "        color=val[\"color\"],\n",
    "        fill_opacity=0.3,\n",
    "        interactive=True,\n",
    "    ).add_to(m)\n",
    "colormap.add_to(m)\n",
    "m"
   ]
  }
 ],
 "metadata": {
  "kernelspec": {
   "display_name": "Python 3.10.4 ('traffic')",
   "language": "python",
   "name": "python3"
  },
  "language_info": {
   "codemirror_mode": {
    "name": "ipython",
    "version": 3
   },
   "file_extension": ".py",
   "mimetype": "text/x-python",
   "name": "python",
   "nbconvert_exporter": "python",
   "pygments_lexer": "ipython3",
   "version": "3.10.4"
  },
  "vscode": {
   "interpreter": {
    "hash": "fca2569cef74398f9ed2d956a35982756a963f9b30299c9cbbf938ad8b64feee"
   }
  }
 },
 "nbformat": 4,
 "nbformat_minor": 5
}
